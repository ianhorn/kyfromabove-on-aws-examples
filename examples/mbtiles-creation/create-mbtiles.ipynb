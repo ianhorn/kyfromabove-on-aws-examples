{
 "cells": [
  {
   "cell_type": "markdown",
   "id": "78e136c9",
   "metadata": {},
   "source": [
    "# Create MBTiles of KyFromAbove Data for External Devices\n",
    "\n",
    "### Objectives\n",
    " - Create MBTiles of an area of interest leveraging KyFromAbove Open Data on AWS\n",
    "\n",
    "### Steps\n",
    "\n",
    " - Create python environment or install necessary modules\n",
    " - Set up variables\n",
    "    - Map Display\n",
    "    - KyFromAbove Tile Index\n",
    "    - Area of Interest\n",
    " - Create functions\n",
    "    - Clip tiles to AOI\n",
    "    - Create a Virtual Raster Tile (VRT) file\n",
    "    - Create MBTiles of VRT\n",
    "\n",
    "\\**Note: this Notebook was built using Python 3.13.2*"
   ]
  },
  {
   "cell_type": "markdown",
   "id": "14ffa617",
   "metadata": {},
   "source": [
    "## Import/Install Modules"
   ]
  },
  {
   "cell_type": "code",
   "execution_count": 1,
   "id": "ad78c04a",
   "metadata": {},
   "outputs": [],
   "source": [
    "## Uncomment this section to install the necessary python modules\n",
    "# %pip install leafmap\n",
    "# %pip install geopandas\n",
    "# %pip install fiona\n",
    "# %pip install gdal==3.10.2\n",
    "# %pip install xarray\n",
    "# %pip install rasterio\n",
    "# %pip install localtileserver"
   ]
  },
  {
   "cell_type": "code",
   "execution_count": 2,
   "id": "ade7b8d6",
   "metadata": {},
   "outputs": [],
   "source": [
    "# import modules\n",
    "import leafmap\n",
    "from leafmap import basemaps, colormaps, toolbar, read_vector\n",
    "import geopandas as gpd\n",
    "import fiona\n",
    "from osgeo import gdal\n",
    "import os\n",
    "import multiprocessing"
   ]
  },
  {
   "cell_type": "markdown",
   "id": "68a7f2c6",
   "metadata": {},
   "source": [
    "## Set up variables\n",
    "\n",
    "### Query Data from Kentucky's Open GIS Portal\n",
    "\n",
    "Add an AOI.  In instance, I will use the [KyGovMaps Open Data Portal](https://opengisdata.ky.gov/) API to query Casey County from the [Kentucky County Boundaries](https://opengisdata.ky.gov/datasets/ad52760b298b4f2b8879233fecd1acd1_0/explore?location=37.613789%2C-85.768000%2C5.86) as a GeoJSON."
   ]
  },
  {
   "cell_type": "code",
   "execution_count": 3,
   "id": "b83fc8c9",
   "metadata": {},
   "outputs": [],
   "source": [
    "# 3-inch from https://kyraster.ky.gov/arcgis\n",
    "orthos_3in = 'https://kyraster.ky.gov/arcgis/services/ImageServices/Ky_KYAPED_Phase3_3IN/ImageServer/WMSServer?'\n",
    "\n",
    "# tile index - grab from ../constants.py file\n",
    "tile_index = 'https://kyfromabove.s3.us-west-2.amazonaws.com/imagery/orthos/tile-grids/kyfromabove_phase3_aerial_5k_grid.gpkg'\n",
    "\n",
    "# read tile index\n",
    "tile_index_layer = read_vector(tile_index)\n",
    "\n",
    "\n",
    "# Casey County GeoJson\n",
    "aoi_geojson = 'https://services3.arcgis.com/ghsX9CKghMvyYjBU/arcgis/rest/services/Ky_County_Polygons_WM/FeatureServer/0/query?where=NAME2%3D%27Casey%27&fullText=&objectIds=&geometry=&geometryType=esriGeometryEnvelope&inSR=&spatialRel=esriSpatialRelIntersects&resultType=none&distance=0.0&units=esriSRUnit_Meter&relationParam=&returnGeodetic=false&outFields=NAME2&returnGeometry=true&returnCentroid=false&returnEnvelope=false&featureEncoding=esriDefault&multipatchOption=xyFootprint&maxAllowableOffset=&geometryPrecision=&outSR=&defaultSR=&datumTransformation=&applyVCSProjection=false&returnIdsOnly=false&returnUniqueIdsOnly=false&returnCountOnly=false&returnExtentOnly=false&returnQueryGeometry=false&returnDistinctValues=false&cacheHint=false&collation=&orderByFields=&groupByFieldsForStatistics=&outStatistics=&having=&resultOffset=&resultRecordCount=&returnZ=false&returnM=false&returnTrueCurves=false&returnExceededLimitFeatures=true&quantizationParameters=&sqlFormat=none&f=pgeojson'\n",
    "\n",
    "# read geojson\n",
    "aoi_layer = read_vector(aoi_geojson)\n",
    "\n",
    "# create an output for VRT\n",
    "# vrt_output_name = input('Tape a name for the VRT output: ')\n",
    "# vrt_output = f'data/{vrt_output_name}.vrt'\n",
    "vrt_output = 'data/aoi.vrt'"
   ]
  },
  {
   "cell_type": "markdown",
   "id": "ef9bce73",
   "metadata": {},
   "source": [
    "## Plot a map using Leafmap"
   ]
  },
  {
   "cell_type": "code",
   "execution_count": 4,
   "id": "4babd290",
   "metadata": {},
   "outputs": [
    {
     "data": {
      "application/vnd.jupyter.widget-view+json": {
       "model_id": "6a40ccb73cf747a8b99ad9179af5f71f",
       "version_major": 2,
       "version_minor": 0
      },
      "text/plain": [
       "Map(center=[37.4, -85], controls=(ZoomControl(options=['position', 'zoom_in_text', 'zoom_in_title', 'zoom_out_…"
      ]
     },
     "execution_count": 4,
     "metadata": {},
     "output_type": "execute_result"
    }
   ],
   "source": [
    "# instantiate a map\n",
    "center = [37.4, -85]\n",
    "zoom = 10\n",
    "\n",
    "m = leafmap.Map(center=center, zoom = zoom)\n",
    "\n",
    "# add imagery to map\n",
    "m.add_wms_layer(\n",
    "    url=orthos_3in,\n",
    "    name='Ky KYAPED Phase3 3IN',\n",
    "    layers='0',\n",
    "    attribution='DGI'\n",
    ")\n",
    "\n",
    "# add Casey County polygon\n",
    "m.add_gdf(\n",
    "    aoi_layer,\n",
    "    layer_name='Casey County',\n",
    "    style={\n",
    "        'color': 'yellow'\n",
    "    }\n",
    ")\n",
    "\n",
    "# add the Tile Index\n",
    "m.add_gdf(\n",
    "    tile_index_layer,\n",
    "    layer_name=\"Tile Index\",\n",
    "    style = {\n",
    "        \"color\": \"#336699\"\n",
    "    }\n",
    ") \n",
    "\n",
    "# add some controls\n",
    "m.add_layer_control(position='topright')\n",
    "# m.add_minimap(zoom=3, position='bottomright') \n",
    "\n",
    "# display map\n",
    "m"
   ]
  },
  {
   "cell_type": "markdown",
   "id": "fd42edcf",
   "metadata": {},
   "source": [
    "---\n",
    "## Define functions\n",
    "\n",
    " 1. Define a function to clip tiles to an AOI"
   ]
  },
  {
   "cell_type": "code",
   "execution_count": 5,
   "id": "8b11ecee",
   "metadata": {},
   "outputs": [],
   "source": [
    "# Define a function that clips tiles to an of interest\n",
    "def clip_tiles_to_aoi(tiles, aoi):\n",
    "    # convert to wgs84 for plotting\n",
    "    tiles = tiles.to_crs('EPSG:4326')\n",
    "    aoi = aoi.to_crs('EPSG:4326') \n",
    "    # clip the tiles to the AOI\n",
    "    tiles_clipped = gpd.clip(tiles, aoi)\n",
    "    return tiles_clipped"
   ]
  },
  {
   "cell_type": "markdown",
   "id": "d76d873a",
   "metadata": {},
   "source": [
    " 2. Create a VRT"
   ]
  },
  {
   "cell_type": "code",
   "execution_count": 6,
   "id": "565bb2e5",
   "metadata": {},
   "outputs": [],
   "source": [
    "def create_vrt(input_list, vrt_output):\n",
    "    options = gdal.BuildVRTOptions(\n",
    "       bandList=(1,2,3),\n",
    "       resampleAlg='nearest',\n",
    "       outputSRS='EPSG:3857'\n",
    "    )\n",
    "\n",
    "    output_vrt = gdal.BuildVRT(\n",
    "        vrt = gdal.BuildVRT(\n",
    "            vrt_output,\n",
    "            input_list\n",
    "        ) \n",
    "    )\n",
    "\n",
    "    return output_vrt"
   ]
  },
  {
   "cell_type": "markdown",
   "id": "88dd53dd",
   "metadata": {},
   "source": [
    " 3. VRT to MBTiles"
   ]
  },
  {
   "cell_type": "code",
   "execution_count": 7,
   "id": "d774a8e0",
   "metadata": {
    "vscode": {
     "languageId": "ruby"
    }
   },
   "outputs": [],
   "source": [
    "def create_mbtiles(vrt, output_mbtiles):\n",
    "    num_threads = max(multiprocessing.cpu_count() - 1, 1)\n",
    "    # Set up Translate options\n",
    "    options = gdal.TranslateOptions(\n",
    "        bandList=(1, 2, 3),\n",
    "        format='MBTiles',\n",
    "        outputSRS='EPSG:3857',\n",
    "        resampleAlg='nearest',\n",
    "        creationOptions=[\n",
    "            'TILE_FORMAT=PNG',\n",
    "            'COMPRESS=DEFLATE',\n",
    "            f'NUM_THREADS={num_threads}',\n",
    "            'QUALITY=75'\n",
    "        ]\n",
    "    )\n",
    "\n",
    "    mbtiles = gdal.Translate(\n",
    "        output_mbtiles,         \n",
    "        vrt,                    \n",
    "        options=options\n",
    "    )\n",
    "    return mbtiles\n"
   ]
  },
  {
   "cell_type": "markdown",
   "id": "ef566ca7",
   "metadata": {},
   "source": [
    "## Run functions\n",
    "\n",
    " - clip tiles\n",
    " - build VRT\\*\n",
    " - export MBTiles\n",
    "\n",
    " \\**this may take several minutes*\n"
   ]
  },
  {
   "cell_type": "code",
   "execution_count": 8,
   "id": "2dbba32c",
   "metadata": {},
   "outputs": [
    {
     "data": {
      "text/plain": [
       "<Axes: >"
      ]
     },
     "execution_count": 8,
     "metadata": {},
     "output_type": "execute_result"
    },
    {
     "data": {
      "image/png": "[encoded data removed]",
      "text/plain": [
       "<Figure size 640x480 with 1 Axes>"
      ]
     },
     "metadata": {},
     "output_type": "display_data"
    }
   ],
   "source": [
    "# clip tiles\n",
    "tiles_aoi = clip_tiles_to_aoi(tile_index_layer, aoi_layer)\n",
    "\n",
    "tiles_aoi.plot()"
   ]
  },
  {
   "cell_type": "code",
   "execution_count": null,
   "id": "9d7a0ff5",
   "metadata": {},
   "outputs": [
    {
     "name": "stdout",
     "output_type": "stream",
     "text": [
      "Data Directory Already Exists\n"
     ]
    }
   ],
   "source": [
    "# set up input variables for create_vrt function\n",
    "data_dir = 'data'                               # set output directory\n",
    "if not os.path.exists(data_dir):\n",
    "    os.mkdirs('data')\n",
    "else:\n",
    "    print('Data Directory Already Exists')\n",
    "\n",
    "input_list = tiles_aoi['aws_url'].tolist()      # list of COGs\n",
    "vrt_output = 'data/casey.vrt'                   # VRT to create\n",
    "\n",
    "if not os.path.exists(vrt_output):\n",
    "    vrt = create_vrt(input_list, vrt_output)\n",
    "else:\n",
    "    print('VRT Already Exists')"
   ]
  },
  {
   "cell_type": "code",
   "execution_count": null,
   "id": "c5b44e0c-5f09-4a74-95fc-21f4bfc7562b",
   "metadata": {},
   "outputs": [],
   "source": [
    "out_mbtiles = 'data/casey.mbtiles'\n",
    "if not os.path.exists(out_mbtiles):\n",
    "    mbtiles = create_mbtiles(vrt, out_mbtiles)\n",
    "else:\n",
    "    print('MBTiles Already Exists')"
   ]
  },
  {
   "cell_type": "code",
   "execution_count": null,
   "id": "fdfa2cb3-63a3-40de-9569-b21054ec4a48",
   "metadata": {},
   "outputs": [],
   "source": []
  }
 ],
 "metadata": {
  "kernelspec": {
   "display_name": "Python 3 (ipykernel)",
   "language": "python",
   "name": "python3"
  },
  "language_info": {
   "codemirror_mode": {
    "name": "ipython",
    "version": 3
   },
   "file_extension": ".py",
   "mimetype": "text/x-python",
   "name": "python",
   "nbconvert_exporter": "python",
   "pygments_lexer": "ipython3",
   "version": "3.13.2"
  }
 },
 "nbformat": 4,
 "nbformat_minor": 5
}
