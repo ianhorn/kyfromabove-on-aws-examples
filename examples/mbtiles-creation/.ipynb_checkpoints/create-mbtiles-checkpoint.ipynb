{
 "cells": [
  {
   "cell_type": "markdown",
   "id": "78e136c9",
   "metadata": {},
   "source": [
    "# Create MBTiles of KyFromAbove Data for External Devices\n",
    "\n",
    "### Objectives\n",
    " - Create mbtiles of an area of interest leveraging KyFromAbove Open Data on AWS\n",
    "\n",
    "### Steps\n",
    "\n",
    " - Create python environment or install necessary modules\n",
    " - Set up variables\n",
    "    - Map Display\n",
    "    - KyFromAbove Tile Index\n",
    "    - Area of Interest\n",
    " - Create functions\n",
    "    - Clip tiles to AOI\n",
    "    - Create a Virtual Raster Tile (VRT) file\n",
    "    - Create mbtiles of VRT\n",
    "\n",
    "\\**Note: this Notebook was built using Python 3.13.2*"
   ]
  },
  {
   "cell_type": "markdown",
   "id": "14ffa617",
   "metadata": {},
   "source": [
    "## Import/Install Modules"
   ]
  },
  {
   "cell_type": "code",
   "execution_count": 1,
   "id": "ad78c04a",
   "metadata": {},
   "outputs": [],
   "source": [
    "## Uncomment this section to install the necessary python modules\n",
    "# %pip install leafmap\n",
    "# %pip install geopandas\n",
    "# %pip install fiona"
   ]
  },
  {
   "cell_type": "code",
   "execution_count": 2,
   "id": "ade7b8d6",
   "metadata": {},
   "outputs": [],
   "source": [
    "# import modules\n",
    "import leafmap\n",
    "from leafmap import basemaps, colormaps, toolbar, read_vector\n",
    "import geopandas as gpd\n",
    "import fiona"
   ]
  },
  {
   "cell_type": "markdown",
   "id": "68a7f2c6",
   "metadata": {},
   "source": [
    "## Set up variables\n",
    "\n",
    "### Query Data from Kentucky's Open GIS Portal\n",
    "\n",
    "Add an AOI.  In instance, I will use the [KyGovMaps Open Data Portal](https://opengisdata.ky.gov/) API to query Casey County from the [Kentucky County Boundaries](https://opengisdata.ky.gov/datasets/ad52760b298b4f2b8879233fecd1acd1_0/explore?location=37.613789%2C-85.768000%2C5.86) as a GeoJSON."
   ]
  },
  {
   "cell_type": "code",
   "execution_count": null,
   "id": "b83fc8c9",
   "metadata": {},
   "outputs": [],
   "source": [
    "# 3-inch from https://kyraster.ky.gov/arcgis\n",
    "orthos_3in = 'https://kyraster.ky.gov/arcgis/rest/services/ImageServices/Ky_KYAPED_Phase3_3IN/ImageServer'\n",
    "orthos_3in += '/tile/{z}/{y}/{x}'\n",
    "\n",
    "\n",
    "# tile index - grab from ../constants.py file\n",
    "tile_index = 'https://kyfromabove.s3-us-west-2.amazonaws.com/imagery/orthos/tile-grids/kyfromabove_phase3_aerial_5k_grid.gpkg'\n",
    "\n",
    "# read tile index\n",
    "tile_index_layer = read_vector(tile_index)\n",
    "\n",
    "# Casey County GeoJson\n",
    "aoi_geojson = 'https://kygisserver.ky.gov/arcgis/rest/services/WGS84WM_Services/Ky_CountyShading_WGS84WM/MapServer/0/query?where=NAME2%3D%27Casey%27&text=&objectIds=&time=&geometry=&geometryType=esriGeometryEnvelope&inSR=&spatialRel=esriSpatialRelIntersects&distance=&units=esriSRUnit_Foot&relationParam=&outFields=NAME2&returnGeometry=true&returnTrueCurves=false&maxAllowableOffset=&geometryPrecision=&outSR=&havingClause=&returnIdsOnly=false&returnCountOnly=false&orderByFields=&groupByFieldsForStatistics=&outStatistics=&returnZ=false&returnM=false&gdbVersion=&historicMoment=&returnDistinctValues=false&resultOffset=&resultRecordCount=&returnExtentOnly=false&datumTransformation=&parameterValues=&rangeValues=&quantizationParameters=&featureEncoding=esriDefault&f=geojson'\n",
    "\n",
    "# read geojson\n",
    "aoi_layer = read_vector(aoi_geojson)"
   ]
  },
  {
   "cell_type": "markdown",
   "id": "ef9bce73",
   "metadata": {},
   "source": [
    "## Plot a map using Leafmap"
   ]
  },
  {
   "cell_type": "code",
   "execution_count": null,
   "id": "4babd290",
   "metadata": {},
   "outputs": [],
   "source": [
    "m = leafmap.Map(center=(37.5, -85.9), zoom = 5)\n",
    "\n",
    "m.add_tile_layer(\n",
    "    orthos_3in,\n",
    "    name='Ky Phase3 3-Inch Orthoimagery',\n",
    "    attribution='DGI'\n",
    ")\n",
    "m\n"
   ]
  }
 ],
 "metadata": {
  "kernelspec": {
   "display_name": "venv",
   "language": "python",
   "name": "python3"
  },
  "language_info": {
   "codemirror_mode": {
    "name": "ipython",
    "version": 3
   },
   "file_extension": ".py",
   "mimetype": "text/x-python",
   "name": "python",
   "nbconvert_exporter": "python",
   "pygments_lexer": "ipython3",
   "version": "3.13.2"
  }
 },
 "nbformat": 4,
 "nbformat_minor": 5
}
