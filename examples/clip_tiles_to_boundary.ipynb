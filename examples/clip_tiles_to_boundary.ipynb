{
 "cells": [
  {
   "cell_type": "markdown",
   "metadata": {},
   "source": [
    "# Clip Tiles to County Boundary for Bulk Download\n",
    "\n",
    "This notebook contains steps to clip the tile index - dem, aerial, point cloud - to an area of interest (AOI) boundary.\n",
    "- Acquire the Tile Index Layer of interest\n",
    " - DEM\n",
    " - Aerial\n",
    " - Point Cloud\n",
    "- Bring in your AOI\n",
    "    - shapefile\n",
    "    - GeoJson\n",
    "    - Rest End Point\n",
    "    - other format\n",
    "- Spatial Analysis\n",
    "- Export\n",
    "    - List to work with locally\n",
    "    - download files directly from S3"
   ]
  },
  {
   "cell_type": "code",
   "execution_count": null,
   "metadata": {},
   "outputs": [],
   "source": []
  },
  {
   "cell_type": "markdown",
   "metadata": {},
   "source": [
    "## Get Tile Index\n",
    "\n",
    "Use Tile Index Geopackage link from the [README](../README.md#) or from [KyFromAbove Open Data Explorer](https://kyfromabove.s3.us-west-2.amazonaws.com/index.html).  Just navigate to the appropriate Aerial or Elevation Folder.<br>\n",
    "<br><center>\n",
    "<img src=\"../media/aws_explorer.jpg\" width=\"600\" height=\"200\">\n",
    "</center><br>\n",
    "\n",
    "Once you navigate to the Geopackage Folder, you can right click on the Geopackage you need and copy the link."
   ]
  },
  {
   "cell_type": "code",
   "execution_count": 9,
   "metadata": {},
   "outputs": [
    {
     "ename": "ModuleNotFoundError",
     "evalue": "No module named 'matplotlib'",
     "output_type": "error",
     "traceback": [
      "\u001b[1;31m---------------------------------------------------------------------------\u001b[0m",
      "\u001b[1;31mModuleNotFoundError\u001b[0m                       Traceback (most recent call last)",
      "Cell \u001b[1;32mIn[9], line 6\u001b[0m\n\u001b[0;32m      4\u001b[0m \u001b[38;5;28;01mfrom\u001b[39;00m\u001b[38;5;250m \u001b[39m\u001b[38;5;21;01mbotocore\u001b[39;00m\u001b[38;5;21;01m.\u001b[39;00m\u001b[38;5;21;01mclient\u001b[39;00m\u001b[38;5;250m \u001b[39m\u001b[38;5;28;01mimport\u001b[39;00m Config\n\u001b[0;32m      5\u001b[0m \u001b[38;5;28;01mimport\u001b[39;00m\u001b[38;5;250m \u001b[39m\u001b[38;5;21;01mgeopandas\u001b[39;00m\u001b[38;5;250m \u001b[39m\u001b[38;5;28;01mas\u001b[39;00m\u001b[38;5;250m \u001b[39m\u001b[38;5;21;01mgpd\u001b[39;00m\n\u001b[1;32m----> 6\u001b[0m \u001b[38;5;28;01mimport\u001b[39;00m\u001b[38;5;250m \u001b[39m\u001b[38;5;21;01mmatplotlib\u001b[39;00m\n\u001b[0;32m      7\u001b[0m \u001b[38;5;28;01mimport\u001b[39;00m\u001b[38;5;250m \u001b[39m\u001b[38;5;21;01mos\u001b[39;00m\n",
      "\u001b[1;31mModuleNotFoundError\u001b[0m: No module named 'matplotlib'"
     ]
    }
   ],
   "source": [
    "# import modules\n",
    "import boto3\n",
    "from botocore import UNSIGNED\n",
    "from botocore.client import Config\n",
    "import geopandas as gpd\n",
    "import matplotlib\n",
    "import os"
   ]
  },
  {
   "cell_type": "markdown",
   "metadata": {},
   "source": [
    "## Read in the tile index\n",
    "\n",
    "For Pandas GeodataFrames, I will use the prefix **gdf_**.\n",
    "\n",
    "The only thing you need to change would be the URL to the tile index layer and your AOI url/path."
   ]
  },
  {
   "cell_type": "code",
   "execution_count": 2,
   "metadata": {},
   "outputs": [],
   "source": [
    "# enter the url for title_url\n",
    "# you can copy and paste from above\n",
    "tile_url = 'https://kyfromabove.s3-us-west-2.amazonaws.com/imagery/orthos/tile-grids/kyfromabove_phase3_aerial_5k_grid.gpkg'"
   ]
  },
  {
   "cell_type": "code",
   "execution_count": 3,
   "metadata": {},
   "outputs": [
    {
     "name": "stderr",
     "output_type": "stream",
     "text": [
      "f:\\workspace_2\\AWS\\kyfromabove-on-aws-examples\\venv\\Lib\\site-packages\\pyogrio\\raw.py:198: RuntimeWarning: unable to open database file: this file is a WAL-enabled database. It cannot be opened because it is presumably read-only or in a read-only directory. Retrying with IMMUTABLE=YES open option\n",
      "  return ogr_read(\n"
     ]
    },
    {
     "data": {
      "text/html": [
       "<div>\n",
       "<style scoped>\n",
       "    .dataframe tbody tr th:only-of-type {\n",
       "        vertical-align: middle;\n",
       "    }\n",
       "\n",
       "    .dataframe tbody tr th {\n",
       "        vertical-align: top;\n",
       "    }\n",
       "\n",
       "    .dataframe thead th {\n",
       "        text-align: right;\n",
       "    }\n",
       "</style>\n",
       "<table border=\"1\" class=\"dataframe\">\n",
       "  <thead>\n",
       "    <tr style=\"text-align: right;\">\n",
       "      <th></th>\n",
       "      <th>tilename</th>\n",
       "      <th>key</th>\n",
       "      <th>aws_url</th>\n",
       "      <th>size</th>\n",
       "      <th>geometry</th>\n",
       "    </tr>\n",
       "  </thead>\n",
       "  <tbody>\n",
       "    <tr>\n",
       "      <th>0</th>\n",
       "      <td>N038E388</td>\n",
       "      <td>imagery/orthos/Phase3/KY_KYAPED_2022_Season2_3...</td>\n",
       "      <td>https://kyfromabove.s3.us-west-2.amazonaws.com...</td>\n",
       "      <td>1017406604</td>\n",
       "      <td>MULTIPOLYGON (((-82.94931 38.74231, -82.95107 ...</td>\n",
       "    </tr>\n",
       "  </tbody>\n",
       "</table>\n",
       "</div>"
      ],
      "text/plain": [
       "   tilename                                                key  \\\n",
       "0  N038E388  imagery/orthos/Phase3/KY_KYAPED_2022_Season2_3...   \n",
       "\n",
       "                                             aws_url        size  \\\n",
       "0  https://kyfromabove.s3.us-west-2.amazonaws.com...  1017406604   \n",
       "\n",
       "                                            geometry  \n",
       "0  MULTIPOLYGON (((-82.94931 38.74231, -82.95107 ...  "
      ]
     },
     "execution_count": 3,
     "metadata": {},
     "output_type": "execute_result"
    }
   ],
   "source": [
    "# read the tile_url into a geodataframe\n",
    "gdf_tiles = gpd.read_file(tile_url)\n",
    "gdf_tiles = gdf_tiles.to_crs(epsg=4326)\n",
    "gdf_tiles.head(1)"
   ]
  },
  {
   "cell_type": "code",
   "execution_count": 4,
   "metadata": {},
   "outputs": [
    {
     "name": "stdout",
     "output_type": "stream",
     "text": [
      "Index(['tilename', 'key', 'aws_url', 'size', 'geometry'], dtype='object')\n"
     ]
    }
   ],
   "source": [
    "# Plot the tiles, no need to add a map yet.\n",
    "print(gdf_tiles.columns)\n",
    "# gdf_tiles.plot()"
   ]
  },
  {
   "cell_type": "markdown",
   "metadata": {},
   "source": [
    "___\n",
    "## Add an area of interest\n",
    "\n",
    "This can be done by reading in a file locally or making a request.  For this example I leverage the KyFromAbove [Vector Services](https://kygisserver.ky.gov/arcgis) to query the [CountyShading](https://kygisserver.ky.gov/arcgis/rest/services/WGS84WM_Services/Ky_CountyShading_WGS84WM/MapServer) service for Fleming County. I clicked on the service, under layers click *County_Information (0)* to open up the layer  I will query.  Scroll to the bottom and click *query*.  \n",
    "\n",
    "In the *Where* clause, use `1=1'` to get everything\\*\\*.  In *Out Fields*, enter _*_.  Switch the *Format* to `GeoJson`.  Press the `Query (Get)` button.  Copy the URL for the GeoJson.\n",
    "\n",
    "_If you use chrome, the [Map-Services-Enhanced](https://github.com/raykendo/Map-Services-Enhanced) extension will let you copy a shortened url of your query._\n",
    "\n",
    "\\*_Note: If you have a geometry (Shapefile, GeoJson, GeoParquet, etc) file locally, you can substitute the `url` for your data file path. Geopandas can read many different formats._\n",
    "\n",
    "\\*\\* _[ArcGIS Rest API Services](https://kygisserver.ky.gov/arcgis/sdk/rest/index.html#//02ss0000006v000000)_"
   ]
  },
  {
   "cell_type": "code",
   "execution_count": 6,
   "metadata": {},
   "outputs": [
    {
     "data": {
      "text/html": [
       "<div>\n",
       "<style scoped>\n",
       "    .dataframe tbody tr th:only-of-type {\n",
       "        vertical-align: middle;\n",
       "    }\n",
       "\n",
       "    .dataframe tbody tr th {\n",
       "        vertical-align: top;\n",
       "    }\n",
       "\n",
       "    .dataframe thead th {\n",
       "        text-align: right;\n",
       "    }\n",
       "</style>\n",
       "<table border=\"1\" class=\"dataframe\">\n",
       "  <thead>\n",
       "    <tr style=\"text-align: right;\">\n",
       "      <th></th>\n",
       "      <th>OBJECTID</th>\n",
       "      <th>NAME</th>\n",
       "      <th>FIPS_ID</th>\n",
       "      <th>NAME2</th>\n",
       "      <th>ADDNAME</th>\n",
       "      <th>SEAT</th>\n",
       "      <th>SEAT2</th>\n",
       "      <th>FORM_YR</th>\n",
       "      <th>PARENTCO</th>\n",
       "      <th>FIPS_NO</th>\n",
       "      <th>...</th>\n",
       "      <th>LAST_UPDT</th>\n",
       "      <th>XY_SOURCE</th>\n",
       "      <th>XY_ISSUES</th>\n",
       "      <th>ATT_SOURCE</th>\n",
       "      <th>ATT_ISSUES</th>\n",
       "      <th>COMMENTS</th>\n",
       "      <th>KYTC_District_Num</th>\n",
       "      <th>Shape.area</th>\n",
       "      <th>Shape.len</th>\n",
       "      <th>geometry</th>\n",
       "    </tr>\n",
       "  </thead>\n",
       "  <tbody>\n",
       "    <tr>\n",
       "      <th>0</th>\n",
       "      <td>1</td>\n",
       "      <td>ADAIR</td>\n",
       "      <td>21001</td>\n",
       "      <td>Adair</td>\n",
       "      <td>LAKE CUMBERLAND</td>\n",
       "      <td>Columbia</td>\n",
       "      <td>COLUMBIA</td>\n",
       "      <td>1802</td>\n",
       "      <td>Green</td>\n",
       "      <td>1</td>\n",
       "      <td>...</td>\n",
       "      <td>741484800000</td>\n",
       "      <td>BOUNDARY DIGITIZED FROM USGS 7.5 MINUTE TOPOGR...</td>\n",
       "      <td>None</td>\n",
       "      <td>SECRETARY OF STATE</td>\n",
       "      <td>None</td>\n",
       "      <td>None</td>\n",
       "      <td>8</td>\n",
       "      <td>1.149684e+10</td>\n",
       "      <td>462429.341380</td>\n",
       "      <td>POLYGON ((-85.16518 37.3104, -85.16992 37.3120...</td>\n",
       "    </tr>\n",
       "    <tr>\n",
       "      <th>1</th>\n",
       "      <td>2</td>\n",
       "      <td>ALLEN</td>\n",
       "      <td>21003</td>\n",
       "      <td>Allen</td>\n",
       "      <td>BARREN RIVER</td>\n",
       "      <td>Scottsville</td>\n",
       "      <td>SCOTTSVILLE</td>\n",
       "      <td>1815</td>\n",
       "      <td>Barren, Warren</td>\n",
       "      <td>3</td>\n",
       "      <td>...</td>\n",
       "      <td>741484800000</td>\n",
       "      <td>BOUNDARY DIGITIZED FROM USGS 7.5 MINUTE TOPOGR...</td>\n",
       "      <td>None</td>\n",
       "      <td>SECRETARY OF STATE</td>\n",
       "      <td>None</td>\n",
       "      <td>None</td>\n",
       "      <td>3</td>\n",
       "      <td>9.811755e+09</td>\n",
       "      <td>557142.359439</td>\n",
       "      <td>POLYGON ((-86.14067 36.91733, -86.14051 36.917...</td>\n",
       "    </tr>\n",
       "    <tr>\n",
       "      <th>2</th>\n",
       "      <td>3</td>\n",
       "      <td>ANDERSON</td>\n",
       "      <td>21005</td>\n",
       "      <td>Anderson</td>\n",
       "      <td>BLUEGRASS</td>\n",
       "      <td>Lawrenceburg</td>\n",
       "      <td>LAWRENCEBURG</td>\n",
       "      <td>1827</td>\n",
       "      <td>Franklin, Mercer, Washington</td>\n",
       "      <td>5</td>\n",
       "      <td>...</td>\n",
       "      <td>741484800000</td>\n",
       "      <td>BOUNDARY DIGITIZED FROM USGS 7.5 MINUTE TOPOGR...</td>\n",
       "      <td>None</td>\n",
       "      <td>SECRETARY OF STATE</td>\n",
       "      <td>None</td>\n",
       "      <td>None</td>\n",
       "      <td>7</td>\n",
       "      <td>5.693637e+09</td>\n",
       "      <td>483724.500281</td>\n",
       "      <td>POLYGON ((-85.02371 38.12905, -85.02352 38.128...</td>\n",
       "    </tr>\n",
       "  </tbody>\n",
       "</table>\n",
       "<p>3 rows × 48 columns</p>\n",
       "</div>"
      ],
      "text/plain": [
       "   OBJECTID      NAME  FIPS_ID     NAME2          ADDNAME          SEAT  \\\n",
       "0         1     ADAIR    21001     Adair  LAKE CUMBERLAND      Columbia   \n",
       "1         2     ALLEN    21003     Allen     BARREN RIVER   Scottsville   \n",
       "2         3  ANDERSON    21005  Anderson        BLUEGRASS  Lawrenceburg   \n",
       "\n",
       "          SEAT2 FORM_YR                      PARENTCO  FIPS_NO  ...  \\\n",
       "0      COLUMBIA    1802                         Green        1  ...   \n",
       "1   SCOTTSVILLE    1815                Barren, Warren        3  ...   \n",
       "2  LAWRENCEBURG    1827  Franklin, Mercer, Washington        5  ...   \n",
       "\n",
       "      LAST_UPDT                                          XY_SOURCE XY_ISSUES  \\\n",
       "0  741484800000  BOUNDARY DIGITIZED FROM USGS 7.5 MINUTE TOPOGR...      None   \n",
       "1  741484800000  BOUNDARY DIGITIZED FROM USGS 7.5 MINUTE TOPOGR...      None   \n",
       "2  741484800000  BOUNDARY DIGITIZED FROM USGS 7.5 MINUTE TOPOGR...      None   \n",
       "\n",
       "           ATT_SOURCE  ATT_ISSUES  COMMENTS  KYTC_District_Num    Shape.area  \\\n",
       "0  SECRETARY OF STATE        None      None                  8  1.149684e+10   \n",
       "1  SECRETARY OF STATE        None      None                  3  9.811755e+09   \n",
       "2  SECRETARY OF STATE        None      None                  7  5.693637e+09   \n",
       "\n",
       "       Shape.len                                           geometry  \n",
       "0  462429.341380  POLYGON ((-85.16518 37.3104, -85.16992 37.3120...  \n",
       "1  557142.359439  POLYGON ((-86.14067 36.91733, -86.14051 36.917...  \n",
       "2  483724.500281  POLYGON ((-85.02371 38.12905, -85.02352 38.128...  \n",
       "\n",
       "[3 rows x 48 columns]"
      ]
     },
     "execution_count": 6,
     "metadata": {},
     "output_type": "execute_result"
    }
   ],
   "source": [
    "# paste in the url from the rest endpoint query\n",
    "aoi_url = 'https://kygisserver.ky.gov/arcgis/rest/services/WGS84WM_Services/Ky_CountyShading_WGS84WM/MapServer/0/query?where=1%3D1&units=esriSRUnit_Foot&outFields=*&returnExtentOnly=false&featureEncoding=esriDefault&f=geojson'\n",
    "\n",
    "# use gdf for geodatframe\n",
    "gdf_aoi = gpd.read_file(aoi_url)\n",
    "gdf_aoi.head(3)"
   ]
  },
  {
   "cell_type": "code",
   "execution_count": 7,
   "metadata": {},
   "outputs": [
    {
     "data": {
      "text/plain": [
       "Index(['OBJECTID', 'NAME', 'FIPS_ID', 'NAME2', 'ADDNAME', 'SEAT', 'SEAT2',\n",
       "       'FORM_YR', 'PARENTCO', 'FIPS_NO', 'FIPS_TXT', 'SMIS', 'SP_ZONE',\n",
       "       'REGION', 'POP70', 'POP80', 'POP90', 'POP00', 'POP10', 'CH70_80',\n",
       "       'CH80_90', 'CH90_00', 'CH00_10', 'POP70SQ', 'POP80SQ', 'POP90SQ',\n",
       "       'POP00SQ', 'POP10SQ', 'CHSQ70_80', 'CHSQ80_90', 'CHSQ90_00',\n",
       "       'CHSQ00_10', 'MILES_SQ', 'Forecast', 'ABBREVTN', 'ABBREVTN2',\n",
       "       'AGENCY_CONT', 'CONTACT', 'LAST_UPDT', 'XY_SOURCE', 'XY_ISSUES',\n",
       "       'ATT_SOURCE', 'ATT_ISSUES', 'COMMENTS', 'KYTC_District_Num',\n",
       "       'Shape.area', 'Shape.len', 'geometry'],\n",
       "      dtype='object')"
      ]
     },
     "execution_count": 7,
     "metadata": {},
     "output_type": "execute_result"
    }
   ],
   "source": [
    "# print columns\n",
    "gdf_aoi.columns"
   ]
  },
  {
   "cell_type": "code",
   "execution_count": 8,
   "metadata": {},
   "outputs": [
    {
     "ename": "ImportError",
     "evalue": "The matplotlib package is required for plotting in geopandas. You can install it using 'conda install -c conda-forge matplotlib' or 'pip install matplotlib'.",
     "output_type": "error",
     "traceback": [
      "\u001b[1;31m---------------------------------------------------------------------------\u001b[0m",
      "\u001b[1;31mModuleNotFoundError\u001b[0m                       Traceback (most recent call last)",
      "File \u001b[1;32mf:\\workspace_2\\AWS\\kyfromabove-on-aws-examples\\venv\\Lib\\site-packages\\geopandas\\plotting.py:647\u001b[0m, in \u001b[0;36mplot_dataframe\u001b[1;34m(df, column, cmap, color, ax, cax, categorical, legend, scheme, k, vmin, vmax, markersize, figsize, legend_kwds, categories, classification_kwds, missing_kwds, aspect, autolim, **style_kwds)\u001b[0m\n\u001b[0;32m    646\u001b[0m \u001b[38;5;28;01mtry\u001b[39;00m:\n\u001b[1;32m--> 647\u001b[0m     \u001b[38;5;28;01mimport\u001b[39;00m\u001b[38;5;250m \u001b[39m\u001b[38;5;21;01mmatplotlib\u001b[39;00m\u001b[38;5;21;01m.\u001b[39;00m\u001b[38;5;21;01mpyplot\u001b[39;00m\u001b[38;5;250m \u001b[39m\u001b[38;5;28;01mas\u001b[39;00m\u001b[38;5;250m \u001b[39m\u001b[38;5;21;01mplt\u001b[39;00m\n\u001b[0;32m    648\u001b[0m \u001b[38;5;28;01mexcept\u001b[39;00m \u001b[38;5;167;01mImportError\u001b[39;00m:\n",
      "\u001b[1;31mModuleNotFoundError\u001b[0m: No module named 'matplotlib'",
      "\nDuring handling of the above exception, another exception occurred:\n",
      "\u001b[1;31mImportError\u001b[0m                               Traceback (most recent call last)",
      "Cell \u001b[1;32mIn[8], line 4\u001b[0m\n\u001b[0;32m      2\u001b[0m cols_to_keep \u001b[38;5;241m=\u001b[39m [\u001b[38;5;124m'\u001b[39m\u001b[38;5;124mNAME2\u001b[39m\u001b[38;5;124m'\u001b[39m, \u001b[38;5;124m'\u001b[39m\u001b[38;5;124mgeometry\u001b[39m\u001b[38;5;124m'\u001b[39m]\n\u001b[0;32m      3\u001b[0m gdf_aoi \u001b[38;5;241m=\u001b[39m gdf_aoi[cols_to_keep]\n\u001b[1;32m----> 4\u001b[0m \u001b[43mgdf_aoi\u001b[49m\u001b[38;5;241;43m.\u001b[39;49m\u001b[43mplot\u001b[49m\u001b[43m(\u001b[49m\n\u001b[0;32m      5\u001b[0m \u001b[43m    \u001b[49m\u001b[43mcolor\u001b[49m\u001b[38;5;241;43m=\u001b[39;49m\u001b[38;5;124;43m'\u001b[39;49m\u001b[38;5;124;43mgreen\u001b[39;49m\u001b[38;5;124;43m'\u001b[39;49m\u001b[43m  \u001b[49m\u001b[38;5;66;43;03m# you know, for the forest\u001b[39;49;00m\n\u001b[0;32m      6\u001b[0m \u001b[43m)\u001b[49m\n",
      "File \u001b[1;32mf:\\workspace_2\\AWS\\kyfromabove-on-aws-examples\\venv\\Lib\\site-packages\\geopandas\\plotting.py:968\u001b[0m, in \u001b[0;36mGeoplotAccessor.__call__\u001b[1;34m(self, *args, **kwargs)\u001b[0m\n\u001b[0;32m    966\u001b[0m kind \u001b[38;5;241m=\u001b[39m kwargs\u001b[38;5;241m.\u001b[39mpop(\u001b[38;5;124m\"\u001b[39m\u001b[38;5;124mkind\u001b[39m\u001b[38;5;124m\"\u001b[39m, \u001b[38;5;124m\"\u001b[39m\u001b[38;5;124mgeo\u001b[39m\u001b[38;5;124m\"\u001b[39m)\n\u001b[0;32m    967\u001b[0m \u001b[38;5;28;01mif\u001b[39;00m kind \u001b[38;5;241m==\u001b[39m \u001b[38;5;124m\"\u001b[39m\u001b[38;5;124mgeo\u001b[39m\u001b[38;5;124m\"\u001b[39m:\n\u001b[1;32m--> 968\u001b[0m     \u001b[38;5;28;01mreturn\u001b[39;00m \u001b[43mplot_dataframe\u001b[49m\u001b[43m(\u001b[49m\u001b[43mdata\u001b[49m\u001b[43m,\u001b[49m\u001b[43m \u001b[49m\u001b[38;5;241;43m*\u001b[39;49m\u001b[43margs\u001b[49m\u001b[43m,\u001b[49m\u001b[43m \u001b[49m\u001b[38;5;241;43m*\u001b[39;49m\u001b[38;5;241;43m*\u001b[39;49m\u001b[43mkwargs\u001b[49m\u001b[43m)\u001b[49m\n\u001b[0;32m    969\u001b[0m \u001b[38;5;28;01mif\u001b[39;00m kind \u001b[38;5;129;01min\u001b[39;00m \u001b[38;5;28mself\u001b[39m\u001b[38;5;241m.\u001b[39m_pandas_kinds:\n\u001b[0;32m    970\u001b[0m     \u001b[38;5;66;03m# Access pandas plots\u001b[39;00m\n\u001b[0;32m    971\u001b[0m     \u001b[38;5;28;01mreturn\u001b[39;00m PlotAccessor(data)(kind\u001b[38;5;241m=\u001b[39mkind, \u001b[38;5;241m*\u001b[39m\u001b[38;5;241m*\u001b[39mkwargs)\n",
      "File \u001b[1;32mf:\\workspace_2\\AWS\\kyfromabove-on-aws-examples\\venv\\Lib\\site-packages\\geopandas\\plotting.py:649\u001b[0m, in \u001b[0;36mplot_dataframe\u001b[1;34m(df, column, cmap, color, ax, cax, categorical, legend, scheme, k, vmin, vmax, markersize, figsize, legend_kwds, categories, classification_kwds, missing_kwds, aspect, autolim, **style_kwds)\u001b[0m\n\u001b[0;32m    647\u001b[0m     \u001b[38;5;28;01mimport\u001b[39;00m\u001b[38;5;250m \u001b[39m\u001b[38;5;21;01mmatplotlib\u001b[39;00m\u001b[38;5;21;01m.\u001b[39;00m\u001b[38;5;21;01mpyplot\u001b[39;00m\u001b[38;5;250m \u001b[39m\u001b[38;5;28;01mas\u001b[39;00m\u001b[38;5;250m \u001b[39m\u001b[38;5;21;01mplt\u001b[39;00m\n\u001b[0;32m    648\u001b[0m \u001b[38;5;28;01mexcept\u001b[39;00m \u001b[38;5;167;01mImportError\u001b[39;00m:\n\u001b[1;32m--> 649\u001b[0m     \u001b[38;5;28;01mraise\u001b[39;00m \u001b[38;5;167;01mImportError\u001b[39;00m(\n\u001b[0;32m    650\u001b[0m         \u001b[38;5;124m\"\u001b[39m\u001b[38;5;124mThe matplotlib package is required for plotting in geopandas. \u001b[39m\u001b[38;5;124m\"\u001b[39m\n\u001b[0;32m    651\u001b[0m         \u001b[38;5;124m\"\u001b[39m\u001b[38;5;124mYou can install it using \u001b[39m\u001b[38;5;124m'\u001b[39m\u001b[38;5;124mconda install -c conda-forge matplotlib\u001b[39m\u001b[38;5;124m'\u001b[39m\u001b[38;5;124m or \u001b[39m\u001b[38;5;124m\"\u001b[39m\n\u001b[0;32m    652\u001b[0m         \u001b[38;5;124m\"\u001b[39m\u001b[38;5;124m'\u001b[39m\u001b[38;5;124mpip install matplotlib\u001b[39m\u001b[38;5;124m'\u001b[39m\u001b[38;5;124m.\u001b[39m\u001b[38;5;124m\"\u001b[39m\n\u001b[0;32m    653\u001b[0m     )\n\u001b[0;32m    655\u001b[0m \u001b[38;5;28;01mif\u001b[39;00m ax \u001b[38;5;129;01mis\u001b[39;00m \u001b[38;5;28;01mNone\u001b[39;00m:\n\u001b[0;32m    656\u001b[0m     \u001b[38;5;28;01mif\u001b[39;00m cax \u001b[38;5;129;01mis\u001b[39;00m \u001b[38;5;129;01mnot\u001b[39;00m \u001b[38;5;28;01mNone\u001b[39;00m:\n",
      "\u001b[1;31mImportError\u001b[0m: The matplotlib package is required for plotting in geopandas. You can install it using 'conda install -c conda-forge matplotlib' or 'pip install matplotlib'."
     ]
    }
   ],
   "source": [
    "# clean up the dataframe a little bit\n",
    "cols_to_keep = ['NAME2', 'geometry']\n",
    "gdf_aoi = gdf_aoi[cols_to_keep]\n",
    "gdf_aoi.plot(\n",
    "    color='green'  # you know, for the forest\n",
    ")"
   ]
  },
  {
   "cell_type": "markdown",
   "metadata": {},
   "source": [
    "___\n",
    "\n",
    "## Create a function to clip the tiles to the AOI"
   ]
  },
  {
   "cell_type": "code",
   "execution_count": 8,
   "metadata": {},
   "outputs": [],
   "source": [
    "#### Create a function to clop the tiles to the AOI\n",
    "def clip_tiles_to_aoi(gdf_tiles, gdf_aoi):\n",
    "    # clip the tiles to the AOI\n",
    "    gdf_tiles_clipped = gpd.clip(gdf_tiles, gdf_aoi)\n",
    "    return gdf_tiles_clipped"
   ]
  },
  {
   "cell_type": "markdown",
   "metadata": {},
   "source": [
    "#### Clip the tiles"
   ]
  },
  {
   "cell_type": "code",
   "execution_count": 9,
   "metadata": {},
   "outputs": [
    {
     "name": "stdout",
     "output_type": "stream",
     "text": [
      "The clipped tiles AOI has 4035 tiles.\n"
     ]
    },
    {
     "data": {
      "text/html": [
       "<div>\n",
       "<style scoped>\n",
       "    .dataframe tbody tr th:only-of-type {\n",
       "        vertical-align: middle;\n",
       "    }\n",
       "\n",
       "    .dataframe tbody tr th {\n",
       "        vertical-align: top;\n",
       "    }\n",
       "\n",
       "    .dataframe thead th {\n",
       "        text-align: right;\n",
       "    }\n",
       "</style>\n",
       "<table border=\"1\" class=\"dataframe\">\n",
       "  <thead>\n",
       "    <tr style=\"text-align: right;\">\n",
       "      <th></th>\n",
       "      <th>tilename</th>\n",
       "      <th>key</th>\n",
       "      <th>aws_url</th>\n",
       "      <th>geometry</th>\n",
       "    </tr>\n",
       "  </thead>\n",
       "  <tbody>\n",
       "    <tr>\n",
       "      <th>4537</th>\n",
       "      <td>N197E321</td>\n",
       "      <td>elevation/DEM/Phase2/N197E321_2023_DEM_Phase2_...</td>\n",
       "      <td>https://kyfromabove.s3.us-west-2.amazonaws.com...</td>\n",
       "      <td>POLYGON ((-84.18753 36.59512, -84.1705 36.5948...</td>\n",
       "    </tr>\n",
       "  </tbody>\n",
       "</table>\n",
       "</div>"
      ],
      "text/plain": [
       "      tilename                                                key  \\\n",
       "4537  N197E321  elevation/DEM/Phase2/N197E321_2023_DEM_Phase2_...   \n",
       "\n",
       "                                                aws_url  \\\n",
       "4537  https://kyfromabove.s3.us-west-2.amazonaws.com...   \n",
       "\n",
       "                                               geometry  \n",
       "4537  POLYGON ((-84.18753 36.59512, -84.1705 36.5948...  "
      ]
     },
     "execution_count": 9,
     "metadata": {},
     "output_type": "execute_result"
    }
   ],
   "source": [
    "gdf_tiles_clipped = clip_tiles_to_aoi(gdf_tiles, gdf_aoi)\n",
    "\n",
    "# print the number of tiles\n",
    "print(f'The clipped tiles AOI has {gdf_tiles_clipped.shape[0]} tiles.')\n",
    "gdf_tiles_clipped.head(1)"
   ]
  },
  {
   "cell_type": "code",
   "execution_count": 10,
   "metadata": {},
   "outputs": [
    {
     "data": {
      "text/plain": [
       "<Axes: >"
      ]
     },
     "execution_count": 10,
     "metadata": {},
     "output_type": "execute_result"
    },
    {
     "data": {
      "image/png": "[encoded data removed]",
      "text/plain": [
       "<Figure size 640x480 with 1 Axes>"
      ]
     },
     "metadata": {},
     "output_type": "display_data"
    }
   ],
   "source": [
    "gdf_tiles_clipped.plot()"
   ]
  },
  {
   "cell_type": "markdown",
   "metadata": {},
   "source": [
    "___\n",
    "## Download tiles for AOI\n",
    "\n",
    "Now that we've clipped the tile in our area of interest, now we want to download the files.  Here are some steps:\n",
    "1. Setup boto3 for no-sign requests.\n",
    "2. Choose an output location (local drive, your own AWS bucket, etc)\n",
    "3. Define a function\n",
    "4. Download"
   ]
  },
  {
   "cell_type": "markdown",
   "metadata": {},
   "source": [
    "### Set up AWS\n",
    "\n",
    "The bucket name is `kyfromabove`.  We just need to set that variable once.\n",
    "\n",
    "When we set up the downloads, we need to use the `key` column from the clipped GeoDataFrame.\n",
    "\n",
    "*Note: Refer to the Help Documentation to set up [File Transfer Configurations](https://boto3.amazonaws.com/v1/documentation/api/latest/guide/s3.html)*"
   ]
  },
  {
   "cell_type": "code",
   "execution_count": 11,
   "metadata": {},
   "outputs": [
    {
     "name": "stdout",
     "output_type": "stream",
     "text": [
      "4537     elevation/DEM/Phase2/N197E321_2023_DEM_Phase2_...\n",
      "25013    elevation/DEM/Phase2/N197E320_2023_DEM_Phase2_...\n",
      "6868     elevation/DEM/Phase2/N197E319_2023_DEM_Phase2_...\n",
      "Name: key, dtype: object\n"
     ]
    }
   ],
   "source": [
    "# set up the AWS Client\n",
    "s3 = boto3.client('s3', config=Config(signature_version=UNSIGNED))\n",
    "\n",
    "bucket = 'kyfromabove'\n",
    "\n",
    "# print the key values \n",
    "print(gdf_tiles_clipped['key'].head(3))"
   ]
  },
  {
   "cell_type": "markdown",
   "metadata": {},
   "source": [
    "### Create a function to download files\n",
    "\n",
    "This will user Geopandas *.itertuples():* to iterate through the dataframe download the files."
   ]
  },
  {
   "cell_type": "markdown",
   "metadata": {},
   "source": [
    "If you want to be prompted to enter your output folder path, uncomment this the block below.  Otherwise, skip."
   ]
  },
  {
   "cell_type": "code",
   "execution_count": 12,
   "metadata": {},
   "outputs": [],
   "source": [
    "# # enter a download path\n",
    "# download_path = input('enter your output folder path: ')\n",
    "\n",
    "# print(download_path)"
   ]
  },
  {
   "cell_type": "markdown",
   "metadata": {},
   "source": [
    "If you just want to enter your path for the variable, use this block below.  Otherwise comment out or skip"
   ]
  },
  {
   "cell_type": "code",
   "execution_count": 13,
   "metadata": {},
   "outputs": [
    {
     "name": "stdout",
     "output_type": "stream",
     "text": [
      "../downloads/tiles\n"
     ]
    }
   ],
   "source": [
    "# enter a download path\n",
    "download_path = '../downloads/tiles'  # enter your path in quotations\n",
    "print(download_path)"
   ]
  },
  {
   "cell_type": "markdown",
   "metadata": {},
   "source": [
    "This next block sets a limit on number of downloads.  Skip or comment it out if you want to proceed to downloading all files."
   ]
  },
  {
   "cell_type": "code",
   "execution_count": 14,
   "metadata": {},
   "outputs": [],
   "source": [
    "# create a function to download the tiles\n",
    "def download_tiles(s3, bucket, gdf_tiles_clipped, download_path, max_downloads=int):  # Just downloading 5 for my example\n",
    "#def download_tiles(s3, bucket, gdf_tiles_clipped, download_path):\n",
    "    downloaded_files = []  # creating a list of downloaded files\n",
    "    try:\n",
    "        for i, row in enumerate(gdf_tiles_clipped.itertuples()):\n",
    "            if i >= max_downloads:\n",
    "                break  # stop after max iterations\n",
    "            \n",
    "            key = row.key\n",
    "            # get the base file name of the key\n",
    "            file_name = key.split('/')[-1]\n",
    "            local_file_path = os.path.join(download_path, file_name)\n",
    "            # append to file list\n",
    "            downloaded_files.append(file_name)\n",
    "            \n",
    "            # download file\n",
    "            if not os.path.exists(local_file_path):  # this will skip downloading duplicates\n",
    "                s3.download_file(bucket, key, local_file_path)\n",
    "                print(f'Downloaded {file_name}')\n",
    "    except Exception as e:\n",
    "        print(f\"Error occurred: {e}\")\n",
    "\n",
    "\n",
    "    return downloaded_files"
   ]
  },
  {
   "cell_type": "markdown",
   "metadata": {},
   "source": [
    "Uncomment this next block to download all files"
   ]
  },
  {
   "cell_type": "code",
   "execution_count": 15,
   "metadata": {},
   "outputs": [],
   "source": [
    "# def download_tiles(s3, bucket, gdf_tiles_clipped, download_path):\n",
    "#     downloaded_files = []  # creating a list of downloaded files\n",
    "#     try:\n",
    "#         for i, row in enumerate(gdf_tiles_clipped.itertuples()):\n",
    "#             if i >= max_downloads:\n",
    "#                 break  # stop after max iterations\n",
    "            \n",
    "#             key = row.key\n",
    "#             # get the base file name of the key\n",
    "#             file_name = key.split('/')[-1]\n",
    "#             local_file_path = os.path.join(download_path, file_name)\n",
    "#             # append to file list\n",
    "#             downloaded_files.append(file_name)\n",
    "            \n",
    "#             # download file\n",
    "#             if not os.path.exists(local_file_path):  # this will skip downloading duplicates\n",
    "#                 s3.download_file(bucket, key, local_file_path)\n",
    "#                 print(f'Downloaded {file_name}')\n",
    "#     except Exception as e:\n",
    "#         print(f\"Error occurred: {e}\")\n",
    "\n",
    "\n",
    "#     return downloaded_files"
   ]
  },
  {
   "cell_type": "markdown",
   "metadata": {},
   "source": [
    "#### Download files"
   ]
  },
  {
   "cell_type": "code",
   "execution_count": 16,
   "metadata": {},
   "outputs": [
    {
     "name": "stdout",
     "output_type": "stream",
     "text": [
      "Downloaded N197E321_2023_DEM_Phase2_cog.tif\n",
      "Downloaded N197E320_2023_DEM_Phase2_cog.tif\n",
      "Downloaded N197E319_2023_DEM_Phase2_cog.tif\n",
      "Downloaded N197E318_2023_DEM_Phase2_cog.tif\n",
      "Downloaded N197E317_2023_DEM_Phase2_cog.tif\n",
      "Downloaded N196E321_2023_DEM_Phase2_cog.tif\n",
      "Downloaded N196E320_2023_DEM_Phase2_cog.tif\n",
      "Downloaded N196E319_2023_DEM_Phase2_cog.tif\n",
      "Downloaded N196E318_2023_DEM_Phase2_cog.tif\n",
      "Downloaded N196E317_2023_DEM_Phase2_cog.tif\n",
      "Downloaded N197E324_2023_DEM_Phase2_cog.tif\n",
      "Downloaded N197E323_2023_DEM_Phase2_cog.tif\n",
      "Downloaded N197E322_2023_DEM_Phase2_cog.tif\n",
      "Downloaded N196E324_2023_DEM_Phase2_cog.tif\n",
      "Downloaded N196E323_2023_DEM_Phase2_cog.tif\n",
      "Downloaded N196E322_2023_DEM_Phase2_cog.tif\n",
      "Downloaded N195E325_2023_DEM_Phase2_cog.tif\n",
      "Downloaded N195E324_2023_DEM_Phase2_cog.tif\n",
      "Downloaded N195E323_2023_DEM_Phase2_cog.tif\n",
      "Downloaded N195E322_2023_DEM_Phase2_cog.tif\n",
      "Downloaded N194E325_2023_DEM_Phase2_cog.tif\n",
      "Downloaded N194E324_2023_DEM_Phase2_cog.tif\n",
      "Downloaded N194E323_2023_DEM_Phase2_cog.tif\n",
      "Downloaded N194E322_2023_DEM_Phase2_cog.tif\n",
      "Downloaded N194E321_2023_DEM_Phase2_cog.tif\n",
      "Downloaded N193E325_2023_DEM_Phase2_cog.tif\n",
      "Downloaded N193E324_2023_DEM_Phase2_cog.tif\n",
      "Downloaded N193E323_2023_DEM_Phase2_cog.tif\n",
      "Downloaded N195E321_2023_DEM_Phase2_cog.tif\n",
      "Downloaded N195E320_2023_DEM_Phase2_cog.tif\n"
     ]
    }
   ],
   "source": [
    "# download 30 files\n",
    "download = download_tiles(s3, bucket, gdf_tiles_clipped, download_path, max_downloads=30)"
   ]
  },
  {
   "cell_type": "markdown",
   "metadata": {},
   "source": [
    "My test download.<br>\n",
    "<br><img src='../media/downloaded_tiles.jpg' width=\"300\" height=\"200\">"
   ]
  },
  {
   "cell_type": "code",
   "execution_count": 17,
   "metadata": {},
   "outputs": [],
   "source": [
    "# # download all files\n",
    "# download_tiles(s3, bucket, gdf_tiles_clipped, download_path)"
   ]
  },
  {
   "cell_type": "markdown",
   "metadata": {},
   "source": [
    "___\n",
    "## Create a raster or mosaic dataset in your GIS software of choice."
   ]
  }
 ],
 "metadata": {
  "kernelspec": {
   "display_name": "venv",
   "language": "python",
   "name": "python3"
  },
  "language_info": {
   "codemirror_mode": {
    "name": "ipython",
    "version": 3
   },
   "file_extension": ".py",
   "mimetype": "text/x-python",
   "name": "python",
   "nbconvert_exporter": "python",
   "pygments_lexer": "ipython3",
   "version": "3.13.0"
  }
 },
 "nbformat": 4,
 "nbformat_minor": 2
}
