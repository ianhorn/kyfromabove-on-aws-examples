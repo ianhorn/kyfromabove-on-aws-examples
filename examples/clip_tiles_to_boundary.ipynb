{
 "cells": [
  {
   "cell_type": "markdown",
   "metadata": {},
   "source": [
    "# Clip Tiles to County Boundary for Bulk Download\n",
    "\n",
    "This notebook contains steps to clip the tile index - dem, aerial, point cloud - to an area of interest (AOI) boundary.\n",
    "- Acquire the Tile Index Layer of interest\n",
    "    - DEM\n",
    "    - Aerial\n",
    "    - Point Cloud\n",
    "- Bring in your AOI\n",
    "    - shapefile\n",
    "    - GeoJson\n",
    "    - Rest End Point\n",
    "    - other format\n",
    "- Spatial Analysis\n",
    "- Export\n",
    "    - List to work with locally\n",
    "    - download files directly from S3"
   ]
  },
  {
   "cell_type": "code",
   "execution_count": 8,
   "metadata": {},
   "outputs": [],
   "source": [
    "# # Install modules if necessary\n",
    "# %pip install boto3\n",
    "# %pip install botocore\n",
    "# %pip install geopandas\n",
    "# %pip install matplotlib"
   ]
  },
  {
   "cell_type": "markdown",
   "metadata": {},
   "source": [
    "## Get Tile Index\n",
    "\n",
    "Use Tile Index Geopackage link from the [README](../README.md#) or from [KyFromAbove Open Data Explorer](https://kyfromabove.s3.us-west-2.amazonaws.com/index.html).  Just navigate to the appropriate Aerial or Elevation Folder.<br>\n",
    "<br><center>\n",
    "<img src=\"https://github.com/ianhorn/kyfromabove-on-aws-examples/blob/main/media/aws_explorer.jpg?raw=true\" width=\"600\" height=\"200\">\n",
    "</center><br>\n",
    "\n",
    "Once you navigate to the Geopackage Folder, you can right click on the Geopackage you need and copy the link."
   ]
  },
  {
   "cell_type": "code",
   "execution_count": 9,
   "metadata": {},
   "outputs": [],
   "source": [
    "# import modules\n",
    "import boto3\n",
    "from botocore import UNSIGNED\n",
    "from botocore.client import Config\n",
    "import geopandas as gpd\n",
    "import matplotlib\n",
    "from typing import Optional\n",
    "import os"
   ]
  },
  {
   "cell_type": "markdown",
   "metadata": {},
   "source": [
    "## Read in the tile index\n",
    "\n",
    "For Pandas GeodataFrames, I will use the prefix **gdf_**.\n",
    "\n",
    "The only thing you need to change would be the URL to the tile index layer and your AOI url/path."
   ]
  },
  {
   "cell_type": "code",
   "execution_count": 10,
   "metadata": {},
   "outputs": [],
   "source": [
    "# enter the url for title_url\n",
    "# you can copy and paste from above\n",
    "tile_url = 'https://kyfromabove.s3-us-west-2.amazonaws.com/elevation/DEM/TileGrids/kyfromabove_phase2_5k_dem_grid.gpkg'"
   ]
  },
  {
   "cell_type": "code",
   "execution_count": 11,
   "metadata": {},
   "outputs": [
    {
     "data": {
      "text/html": [
       "<div>\n",
       "<style scoped>\n",
       "    .dataframe tbody tr th:only-of-type {\n",
       "        vertical-align: middle;\n",
       "    }\n",
       "\n",
       "    .dataframe tbody tr th {\n",
       "        vertical-align: top;\n",
       "    }\n",
       "\n",
       "    .dataframe thead th {\n",
       "        text-align: right;\n",
       "    }\n",
       "</style>\n",
       "<table border=\"1\" class=\"dataframe\">\n",
       "  <thead>\n",
       "    <tr style=\"text-align: right;\">\n",
       "      <th></th>\n",
       "      <th>tilename</th>\n",
       "      <th>key</th>\n",
       "      <th>aws_url</th>\n",
       "      <th>geometry</th>\n",
       "    </tr>\n",
       "  </thead>\n",
       "  <tbody>\n",
       "    <tr>\n",
       "      <th>0</th>\n",
       "      <td>N016E292</td>\n",
       "      <td>elevation/DEM/Phase2/N016E292_2022_DEM_Phase2_...</td>\n",
       "      <td>https://kyfromabove.s3.us-west-2.amazonaws.com...</td>\n",
       "      <td>MULTIPOLYGON (((-84.64504 39.07212, -84.64483 ...</td>\n",
       "    </tr>\n",
       "  </tbody>\n",
       "</table>\n",
       "</div>"
      ],
      "text/plain": [
       "   tilename                                                key  \\\n",
       "0  N016E292  elevation/DEM/Phase2/N016E292_2022_DEM_Phase2_...   \n",
       "\n",
       "                                             aws_url  \\\n",
       "0  https://kyfromabove.s3.us-west-2.amazonaws.com...   \n",
       "\n",
       "                                            geometry  \n",
       "0  MULTIPOLYGON (((-84.64504 39.07212, -84.64483 ...  "
      ]
     },
     "execution_count": 11,
     "metadata": {},
     "output_type": "execute_result"
    }
   ],
   "source": [
    "# read the tile_url into a geodataframe\n",
    "gdf_tiles = gpd.read_file(tile_url)\n",
    "gdf_tiles = gdf_tiles.to_crs(epsg=4326)\n",
    "gdf_tiles.head(1)"
   ]
  },
  {
   "cell_type": "code",
   "execution_count": 12,
   "metadata": {},
   "outputs": [
    {
     "name": "stdout",
     "output_type": "stream",
     "text": [
      "Index(['tilename', 'key', 'aws_url', 'geometry'], dtype='object')\n"
     ]
    }
   ],
   "source": [
    "# Plot the tiles, no need to add a map yet.\n",
    "print(gdf_tiles.columns)\n",
    "# gdf_tiles.plot()"
   ]
  },
  {
   "cell_type": "markdown",
   "metadata": {},
   "source": [
    "___\n",
    "## Add an area of interest\n",
    "This can be done by reading in a file locally or making a request. For this example, I go to the US Forest Service Data Hub\n",
    "\n",
    "I then opened up the FS National Forest Dataset\n",
    "\n",
    "I clicked the \"I want to use this\" tab at the bottom, then selected the View Data Source. This opens the REST endpoint for the service. Scroll to the bottom and click query.\n",
    "\n",
    "In the Where clause, use FORESTNAME LIKE 'Daniel Boone%'. In Out Fields, enter \\*. Switch the Format to GeoJson. Press the Query (Get) button. Copy the URL Address for the GeoJson.\n",
    "\n",
    "If you use chrome, the Map-Services-Enhanced extension will let you copy a shortened url of your query.\n",
    "\n",
    "\\*Note: If you have a geometry (Shapefile, GeoJson, GeoParquet, etc) file locally, you can substitute the url for your data file path. Geopandas can read many different formats."
   ]
  },
  {
   "cell_type": "code",
   "execution_count": 16,
   "metadata": {},
   "outputs": [
    {
     "name": "stdout",
     "output_type": "stream",
     "text": [
      "Index(['OBJECTID', 'ADMINFORESTID', 'REGION', 'FORESTNUMBER', 'FORESTORGCODE',\n",
      "       'FORESTNAME', 'GIS_ACRES', 'SHAPE.LEN', 'SHAPE.AREA', 'geometry'],\n",
      "      dtype='object')\n",
      "\n"
     ]
    },
    {
     "data": {
      "text/html": [
       "<div>\n",
       "<style scoped>\n",
       "    .dataframe tbody tr th:only-of-type {\n",
       "        vertical-align: middle;\n",
       "    }\n",
       "\n",
       "    .dataframe tbody tr th {\n",
       "        vertical-align: top;\n",
       "    }\n",
       "\n",
       "    .dataframe thead th {\n",
       "        text-align: right;\n",
       "    }\n",
       "</style>\n",
       "<table border=\"1\" class=\"dataframe\">\n",
       "  <thead>\n",
       "    <tr style=\"text-align: right;\">\n",
       "      <th></th>\n",
       "      <th>OBJECTID</th>\n",
       "      <th>ADMINFORESTID</th>\n",
       "      <th>REGION</th>\n",
       "      <th>FORESTNUMBER</th>\n",
       "      <th>FORESTORGCODE</th>\n",
       "      <th>FORESTNAME</th>\n",
       "      <th>GIS_ACRES</th>\n",
       "      <th>SHAPE.LEN</th>\n",
       "      <th>SHAPE.AREA</th>\n",
       "      <th>geometry</th>\n",
       "    </tr>\n",
       "  </thead>\n",
       "  <tbody>\n",
       "    <tr>\n",
       "      <th>0</th>\n",
       "      <td>206695</td>\n",
       "      <td>99080200010343</td>\n",
       "      <td>08</td>\n",
       "      <td>02</td>\n",
       "      <td>0802</td>\n",
       "      <td>Daniel Boone National Forest</td>\n",
       "      <td>2043064.614</td>\n",
       "      <td>14.849652</td>\n",
       "      <td>0.840158</td>\n",
       "      <td>MULTIPOLYGON (((-84.11849 36.96951, -84.11874 ...</td>\n",
       "    </tr>\n",
       "  </tbody>\n",
       "</table>\n",
       "</div>"
      ],
      "text/plain": [
       "   OBJECTID   ADMINFORESTID REGION FORESTNUMBER FORESTORGCODE  \\\n",
       "0    206695  99080200010343     08           02          0802   \n",
       "\n",
       "                     FORESTNAME    GIS_ACRES  SHAPE.LEN  SHAPE.AREA  \\\n",
       "0  Daniel Boone National Forest  2043064.614  14.849652    0.840158   \n",
       "\n",
       "                                            geometry  \n",
       "0  MULTIPOLYGON (((-84.11849 36.96951, -84.11874 ...  "
      ]
     },
     "execution_count": 16,
     "metadata": {},
     "output_type": "execute_result"
    }
   ],
   "source": [
    "# paste in the url from the rest endpoint query\n",
    "aoi_url = 'https://apps.fs.usda.gov/arcx/rest/services/EDW/EDW_ForestSystemBoundaries_01/MapServer/1/query?where=FORESTNAME+LIKE+%27Daniel+Boone%25%27&timeRelation=esriTimeRelationOverlaps&units=esriSRUnit_Foot&outFields=*&returnExtentOnly=false&sqlFormat=none&featureEncoding=esriDefault&f=geojson'\n",
    "\n",
    "# use gdf for geodatframe\n",
    "gdf_aoi = gpd.read_file(aoi_url)\n",
    "\n",
    "\n",
    "# print columns\n",
    "print(f'{gdf_aoi.columns}\\n')\n",
    "gdf_aoi"
   ]
  },
  {
   "cell_type": "code",
   "execution_count": 17,
   "metadata": {},
   "outputs": [
    {
     "data": {
      "text/plain": [
       "<Axes: >"
      ]
     },
     "execution_count": 17,
     "metadata": {},
     "output_type": "execute_result"
    },
    {
     "data": {
      "image/png": "[encoded data removed]",
      "text/plain": [
       "<Figure size 640x480 with 1 Axes>"
      ]
     },
     "metadata": {},
     "output_type": "display_data"
    }
   ],
   "source": [
    "# clean up the dataframe a little bit\n",
    "cols_to_keep = ['FORESTNAME', 'geometry']\n",
    "gdf_aoi = gdf_aoi[cols_to_keep]\n",
    "gdf_aoi.plot(\n",
    "    color='green'  # you know, for the forest\n",
    ")"
   ]
  },
  {
   "cell_type": "markdown",
   "metadata": {},
   "source": [
    "___\n",
    "\n",
    "## Create a function to clip the tiles to the AOI"
   ]
  },
  {
   "cell_type": "code",
   "execution_count": 18,
   "metadata": {},
   "outputs": [],
   "source": [
    "#### Create a function to clip the tiles to the AOI\n",
    "def clip_tiles_to_aoi(gdf_tiles, gdf_aoi):\n",
    "    # clip the tiles to the AOI\n",
    "    gdf_tiles_clipped = gpd.clip(gdf_tiles, gdf_aoi)\n",
    "    return gdf_tiles_clipped"
   ]
  },
  {
   "cell_type": "markdown",
   "metadata": {},
   "source": [
    "#### Clip the tiles"
   ]
  },
  {
   "cell_type": "code",
   "execution_count": 19,
   "metadata": {},
   "outputs": [
    {
     "name": "stdout",
     "output_type": "stream",
     "text": [
      "The clipped tiles AOI has 4035 tiles.\n"
     ]
    },
    {
     "data": {
      "text/html": [
       "<div>\n",
       "<style scoped>\n",
       "    .dataframe tbody tr th:only-of-type {\n",
       "        vertical-align: middle;\n",
       "    }\n",
       "\n",
       "    .dataframe tbody tr th {\n",
       "        vertical-align: top;\n",
       "    }\n",
       "\n",
       "    .dataframe thead th {\n",
       "        text-align: right;\n",
       "    }\n",
       "</style>\n",
       "<table border=\"1\" class=\"dataframe\">\n",
       "  <thead>\n",
       "    <tr style=\"text-align: right;\">\n",
       "      <th></th>\n",
       "      <th>tilename</th>\n",
       "      <th>key</th>\n",
       "      <th>aws_url</th>\n",
       "      <th>geometry</th>\n",
       "    </tr>\n",
       "  </thead>\n",
       "  <tbody>\n",
       "    <tr>\n",
       "      <th>4537</th>\n",
       "      <td>N197E321</td>\n",
       "      <td>elevation/DEM/Phase2/N197E321_2023_DEM_Phase2_...</td>\n",
       "      <td>https://kyfromabove.s3.us-west-2.amazonaws.com...</td>\n",
       "      <td>POLYGON ((-84.18753 36.59512, -84.1705 36.5948...</td>\n",
       "    </tr>\n",
       "  </tbody>\n",
       "</table>\n",
       "</div>"
      ],
      "text/plain": [
       "      tilename                                                key  \\\n",
       "4537  N197E321  elevation/DEM/Phase2/N197E321_2023_DEM_Phase2_...   \n",
       "\n",
       "                                                aws_url  \\\n",
       "4537  https://kyfromabove.s3.us-west-2.amazonaws.com...   \n",
       "\n",
       "                                               geometry  \n",
       "4537  POLYGON ((-84.18753 36.59512, -84.1705 36.5948...  "
      ]
     },
     "execution_count": 19,
     "metadata": {},
     "output_type": "execute_result"
    }
   ],
   "source": [
    "gdf_tiles_clipped = clip_tiles_to_aoi(gdf_tiles, gdf_aoi)\n",
    "\n",
    "# print the number of tiles\n",
    "print(f'The clipped tiles AOI has {gdf_tiles_clipped.shape[0]} tiles.')\n",
    "gdf_tiles_clipped.head(1)"
   ]
  },
  {
   "cell_type": "code",
   "execution_count": 20,
   "metadata": {},
   "outputs": [
    {
     "data": {
      "text/plain": [
       "<Axes: >"
      ]
     },
     "execution_count": 20,
     "metadata": {},
     "output_type": "execute_result"
    },
    {
     "data": {
      "image/png": "[encoded data removed]",
      "text/plain": [
       "<Figure size 640x480 with 1 Axes>"
      ]
     },
     "metadata": {},
     "output_type": "display_data"
    }
   ],
   "source": [
    "gdf_tiles_clipped.plot()"
   ]
  },
  {
   "cell_type": "markdown",
   "metadata": {},
   "source": [
    "___\n",
    "## Download tiles for AOI\n",
    "\n",
    "Now that we've clipped the tile in our area of interest, now we want to download the files.  Here are some steps:\n",
    "1. Setup boto3 for no-sign requests.\n",
    "2. Choose an output location (local drive, your own AWS bucket, etc)\n",
    "3. Define a function\n",
    "4. Download"
   ]
  },
  {
   "cell_type": "markdown",
   "metadata": {},
   "source": [
    "### Set up AWS\n",
    "\n",
    "The bucket name is `kyfromabove`.  We just need to set that variable once.\n",
    "\n",
    "When we set up the downloads, we need to use the `key` column from the clipped GeoDataFrame.\n",
    "\n",
    "*Note: Refer to the Help Documentation to set up [File Transfer Configurations](https://boto3.amazonaws.com/v1/documentation/api/latest/guide/s3.html)*"
   ]
  },
  {
   "cell_type": "code",
   "execution_count": 21,
   "metadata": {},
   "outputs": [
    {
     "name": "stdout",
     "output_type": "stream",
     "text": [
      "4537     elevation/DEM/Phase2/N197E321_2023_DEM_Phase2_...\n",
      "25013    elevation/DEM/Phase2/N197E320_2023_DEM_Phase2_...\n",
      "6868     elevation/DEM/Phase2/N197E319_2023_DEM_Phase2_...\n",
      "Name: key, dtype: object\n"
     ]
    }
   ],
   "source": [
    "# set up the AWS Client\n",
    "s3 = boto3.client('s3', config=Config(signature_version=UNSIGNED))\n",
    "\n",
    "bucket = 'kyfromabove'\n",
    "\n",
    "# print the key values \n",
    "print(gdf_tiles_clipped['key'].head(3))"
   ]
  },
  {
   "cell_type": "markdown",
   "metadata": {},
   "source": [
    "### Create a function to download files\n",
    "\n",
    "This will leverage Geopandas *.itertuples():* to iterate through the dataframe download the files."
   ]
  },
  {
   "cell_type": "markdown",
   "metadata": {},
   "source": [
    "If you want to be prompted to enter your output folder path, uncomment this the block below.  Otherwise, skip."
   ]
  },
  {
   "cell_type": "code",
   "execution_count": 17,
   "metadata": {},
   "outputs": [],
   "source": [
    "# # enter a download path\n",
    "# download_path = input('enter your output folder path: ')\n",
    "\n",
    "# print(download_path)"
   ]
  },
  {
   "cell_type": "markdown",
   "metadata": {},
   "source": [
    "If you just want to enter your path for the variable, use this block below.  Otherwise comment out or skip"
   ]
  },
  {
   "cell_type": "code",
   "execution_count": 22,
   "metadata": {},
   "outputs": [
    {
     "name": "stdout",
     "output_type": "stream",
     "text": [
      "../downloads/tiles\n"
     ]
    }
   ],
   "source": [
    "# enter a download path\n",
    "download_path = '../downloads/tiles'  # enter your path in quotations\n",
    "print(download_path)"
   ]
  },
  {
   "cell_type": "markdown",
   "metadata": {},
   "source": [
    "This next block sets a creates function to with an optional limit on number of downloads."
   ]
  },
  {
   "cell_type": "code",
   "execution_count": 23,
   "metadata": {},
   "outputs": [],
   "source": [
    "# create a function to download the tiles\n",
    "def download_tiles(s3, bucket, gdf_tiles_clipped, download_path, max_downloads=int):  # Just downloading 5 for my example\n",
    "    \n",
    "    \"\"\"\n",
    "    Downloads COG or COPC files from an S3 bucket based on the input AOI GeoDataFrame.\n",
    "\n",
    "    Args:\n",
    "        s3: The S3 client used to access the bucket.\n",
    "        bucket: The name of the S3 bucket to download from.\n",
    "        gdf_tiles_clipped: A GeoDataFrame containing tile information (e.g., bounding boxes).\n",
    "        download_path: The local directory path where the files should be saved.\n",
    "        max_downloads: Optional limit on the number of tiles to download.\n",
    "    \n",
    "    Returns:\n",
    "        None\n",
    "    \"\"\"\n",
    "        \n",
    "    downloaded_files = []  # creating a list of downloaded files\n",
    "    try:\n",
    "        for i, row in enumerate(gdf_tiles_clipped.itertuples()):\n",
    "            if i >= max_downloads:\n",
    "                break  # stop after max iterations\n",
    "            \n",
    "            key = row.key\n",
    "            # get the base file name of the key\n",
    "            file_name = key.split('/')[-1]\n",
    "            local_file_path = os.path.join(download_path, file_name)\n",
    "            # append to file list\n",
    "            downloaded_files.append(file_name)\n",
    "            \n",
    "            # download file\n",
    "            if not os.path.exists(local_file_path):  # this will skip downloading duplicates\n",
    "                s3.download_file(bucket, key, local_file_path)\n",
    "                print(f'Downloaded {file_name}')\n",
    "    except Exception as e:\n",
    "        print(f\"Error occurred: {e}\")\n",
    "\n",
    "\n",
    "    return downloaded_files"
   ]
  },
  {
   "cell_type": "markdown",
   "metadata": {},
   "source": [
    "#### Download files"
   ]
  },
  {
   "cell_type": "code",
   "execution_count": 24,
   "metadata": {},
   "outputs": [
    {
     "name": "stdout",
     "output_type": "stream",
     "text": [
      "Downloaded N197E321_2023_DEM_Phase2_cog.tif\n",
      "Downloaded N197E320_2023_DEM_Phase2_cog.tif\n",
      "Downloaded N197E319_2023_DEM_Phase2_cog.tif\n",
      "Downloaded N197E318_2023_DEM_Phase2_cog.tif\n",
      "Downloaded N197E317_2023_DEM_Phase2_cog.tif\n",
      "Downloaded N196E321_2023_DEM_Phase2_cog.tif\n",
      "Downloaded N196E320_2023_DEM_Phase2_cog.tif\n",
      "Downloaded N196E319_2023_DEM_Phase2_cog.tif\n",
      "Downloaded N196E318_2023_DEM_Phase2_cog.tif\n",
      "Downloaded N196E317_2023_DEM_Phase2_cog.tif\n",
      "Downloaded N197E324_2023_DEM_Phase2_cog.tif\n",
      "Downloaded N197E323_2023_DEM_Phase2_cog.tif\n",
      "Downloaded N197E322_2023_DEM_Phase2_cog.tif\n",
      "Downloaded N196E324_2023_DEM_Phase2_cog.tif\n",
      "Downloaded N196E323_2023_DEM_Phase2_cog.tif\n",
      "Downloaded N196E322_2023_DEM_Phase2_cog.tif\n",
      "Downloaded N195E325_2023_DEM_Phase2_cog.tif\n",
      "Downloaded N195E324_2023_DEM_Phase2_cog.tif\n",
      "Downloaded N195E323_2023_DEM_Phase2_cog.tif\n",
      "Downloaded N195E322_2023_DEM_Phase2_cog.tif\n",
      "Downloaded N194E325_2023_DEM_Phase2_cog.tif\n",
      "Downloaded N194E324_2023_DEM_Phase2_cog.tif\n",
      "Downloaded N194E323_2023_DEM_Phase2_cog.tif\n",
      "Downloaded N194E322_2023_DEM_Phase2_cog.tif\n",
      "Downloaded N194E321_2023_DEM_Phase2_cog.tif\n",
      "Downloaded N193E325_2023_DEM_Phase2_cog.tif\n",
      "Downloaded N193E324_2023_DEM_Phase2_cog.tif\n",
      "Downloaded N193E323_2023_DEM_Phase2_cog.tif\n",
      "Downloaded N195E321_2023_DEM_Phase2_cog.tif\n",
      "Downloaded N195E320_2023_DEM_Phase2_cog.tif\n"
     ]
    }
   ],
   "source": [
    "# download 30 files\n",
    "download = download_tiles(s3, bucket, gdf_tiles_clipped, download_path, max_downloads=30)"
   ]
  },
  {
   "cell_type": "markdown",
   "metadata": {},
   "source": [
    "My test download.<br>\n",
    "<br><img src='https://raw.githubusercontent.com/ianhorn/kyfromabove-on-aws-examples/refs/heads/main/media/downloaded_tiles.jpg' width=\"300\" height=\"200\">"
   ]
  },
  {
   "cell_type": "markdown",
   "metadata": {},
   "source": [
    "___\n",
    "## Create a raster or mosaic dataset in your GIS software of choice."
   ]
  }
 ],
 "metadata": {
  "kernelspec": {
   "display_name": "venv",
   "language": "python",
   "name": "python3"
  },
  "language_info": {
   "codemirror_mode": {
    "name": "ipython",
    "version": 3
   },
   "file_extension": ".py",
   "mimetype": "text/x-python",
   "name": "python",
   "nbconvert_exporter": "python",
   "pygments_lexer": "ipython3",
   "version": "3.11.7"
  }
 },
 "nbformat": 4,
 "nbformat_minor": 2
}
