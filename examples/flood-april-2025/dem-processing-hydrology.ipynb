{
 "cells": [
  {
   "cell_type": "markdown",
   "id": "7da3f2c4",
   "metadata": {},
   "source": [
    "# Header"
   ]
  },
  {
   "cell_type": "code",
   "execution_count": null,
   "id": "f4b19709",
   "metadata": {},
   "outputs": [],
   "source": [
    "# %pip install leafmap\n",
    "# %pip install geopandas\n",
    "# %pip install GDAL==3.10.2  # versions varies on your environment    "
   ]
  },
  {
   "cell_type": "code",
   "execution_count": 1,
   "id": "0fa3df8e",
   "metadata": {},
   "outputs": [],
   "source": [
    "import os\n",
    "import leafmap\n",
    "import geopandas as gpd\n",
    "from osgeo import gdal"
   ]
  },
  {
   "cell_type": "markdown",
   "id": "c3013f4c",
   "metadata": {},
   "source": [
    "### Setup Map Variables\n",
    "\n",
    " - GIS Baselayer - Add a basemap from [KyGisServer](https://kygisserver.ky.gov/arcgis/rest/services/WGS84WM_Services).  In this instance, I will use the Commonweatlh Topography Basemap.\n",
    " ```\n",
    " https://kygisserver.ky.gov/arcgis/rest/services/WGS84WM_Services/Ky_TCM_Topo_Base_WGS84WM/MapServer\n",
    " ```\n",
    "\n",
    " - [Cedar Run-Kentucky River/Stoney Creek-Kentucky River/Lower North Benson Creek-Benson Creek](https://kygisserver.ky.gov/arcgis/rest/services/WGS84WM_Services/Ky_8_10_12_Digit_Hydrologic_Units_WGS84WM/MapServer/0) 12 digit hydrologic units from KyGisServer\n",
    "\n",
    " - Download [3DHP Streamlines](https://opengisdata.ky.gov/datasets/a278069c6db44b63a4fee8670b7a5adf_0/api) from Kentucky's GIS Open Data Portal API Explorer"
   ]
  },
  {
   "cell_type": "code",
   "execution_count": 2,
   "id": "d582f1f2",
   "metadata": {},
   "outputs": [
    {
     "name": "stdout",
     "output_type": "stream",
     "text": [
      "https://kygisserver.ky.gov/arcgis/rest/services/WGS84WM_Services/Ky_TCM_Topo_Base_WGS84WM/MapServer/tile/{z}/{y}/{x}\n",
      "\n"
     ]
    }
   ],
   "source": [
    "# add a kentucky basemap\n",
    "input_url = 'https://kygisserver.ky.gov/arcgis/rest/services/WGS84WM_Services/Ky_TCM_Topo_Base_WGS84WM/MapServer'\n",
    "# ky_base_map = input('Please paste WMS: \\n') or input_url\n",
    "ky_base_map = input_url\n",
    "ky_base_map += '/tile/{z}/{y}/{x}'              # concatenate text for tile layer format\n",
    "print(f'{ky_base_map}\\n')\n",
    "\n",
    "frankfort_hucs = 'https://kygisserver.ky.gov/arcgis/rest/services/WGS84WM_Services/Ky_8_10_12_Digit_Hydrologic_Units_WGS84WM/MapServer/0/query?where=Name+IN+%28%27Cedar+Run-Kentucky+River%27%2C+%27Stony+Creek-Kentucky+River%27%2C+%27Lower+North+Benson+Creek-Benson+Creek%27%29&units=esriSRUnit_Foot&outFields=Name%2CHUC12&returnExtentOnly=false&featureEncoding=esriDefault&f=geojson'\n",
    "gdf = gpd.read_file(frankfort_hucs)\n",
    "\n",
    "# Save to Geopackage to use externally to clip streams\n",
    "gdf.to_file('frankfort_hux.gpkg', layer='hucs', driver='GPKG')"
   ]
  },
  {
   "cell_type": "code",
   "execution_count": null,
   "id": "779073b9",
   "metadata": {},
   "outputs": [],
   "source": [
    "# # initiate Map m\n",
    "# m = leafmap.Map(\n",
    "#     center=(38.2,-84.9),\n",
    "#     zoom=11,\n",
    "#     draw_control=False,\n",
    "#     measure_control=False,\n",
    "#     fullscreen_control=False,\n",
    "#     )\n",
    "\n",
    "# # add Kentucky's Topography Basemap as a WMTS\n",
    "# m.add_tile_layer(\n",
    "#     url=ky_base_map,\n",
    "#     name='Ky TCM Topo',\n",
    "#     attribution='<a href=\"https://kygeonet.ky.gov\" target=\"_blank\">DGI</a>'\n",
    "# )\n",
    "\n",
    "# # add Lower Kentucky River geometry to map\n",
    "# m.add_gdf(\n",
    "#     gdf,\n",
    "#     layer_type='fill',\n",
    "#     layer_name='Benson/Cedar/Stony Creeks',\n",
    "# )"
   ]
  },
  {
   "cell_type": "markdown",
   "id": "262c836f",
   "metadata": {},
   "source": [
    "### Get Elevation Data\n",
    "\n",
    " - Get DEM Cogs from AWS\n",
    " - Clip Tiles to Huc8\n",
    " - Create a list of COGs/Save to file\n",
    " - Build a Virtual Raster/Export VRT\n",
    " - Visualize\n",
    "\n",
    "Geopackage urls can be copied from [KyFromAbove AWL Explorer](https://kyfromabove.s3.us-west-2.amazonaws.com/index.html#elevation/DEM/TileGrids/). Just right click and copy the link.  This project will use the Phase2 due to availability.\n",
    "```\n",
    "https://kyfromabove.s3-us-west-2.amazonaws.com/elevation/DEM/TileGrids/kyfromabove_phase2_5k_dem_grid.gpkg\n",
    "```\n"
   ]
  },
  {
   "cell_type": "code",
   "execution_count": null,
   "id": "373792fa",
   "metadata": {},
   "outputs": [],
   "source": [
    "# Get Elevation Data\n",
    "input_gpkg = 'https://kyfromabove.s3-us-west-2.amazonaws.com/elevation/DEM/TileGrids/kyfromabove_phase2_5k_dem_grid.gpkg'\n",
    "# dem_url = input('Paste your Digital Elevation Model Url: \\n') or input_gpkg\n",
    "dem_url = input_gpkg\n",
    "dem_gdf = gpd.read_file(dem_url)"
   ]
  },
  {
   "cell_type": "markdown",
   "id": "312cc486",
   "metadata": {},
   "source": [
    "Create a function to clip tiles to an area of interest."
   ]
  },
  {
   "cell_type": "code",
   "execution_count": null,
   "id": "0084c11f",
   "metadata": {},
   "outputs": [],
   "source": [
    "def clip_tiles_to_aoi(gdf_tiles, gdf_aoi):\n",
    "    # convert to wgs84 for plotting\n",
    "    gdf_tiles = gdf_tiles.to_crs('EPSG:4326')\n",
    "    gdf_aoi = gdf_aoi.to_crs('EPSG:4326') \n",
    "    # clip the tiles to the AOI\n",
    "    gdf_tiles_clipped = gpd.clip(gdf_tiles, gdf_aoi)\n",
    "    return gdf_tiles_clipped\n",
    "\n",
    "# clip tiles\n",
    "# for simplicity, setup variables\n",
    "gdf_aoi = gdf  # Watersheds around Frankfort\n",
    "gdf_tiles = dem_gdf\n",
    "\n",
    "# clip tiles\n",
    "dem_gdf_clipped = clip_tiles_to_aoi(gdf_tiles, gdf_aoi)\n",
    "\n",
    "# Save to fil\n",
    "dem_gdf_clipped.to_file('dem_gdf_clipped.gpkg', layer='dem_gdf_clipped', driver='GPKG')\n"
   ]
  },
  {
   "cell_type": "markdown",
   "id": "87101678",
   "metadata": {},
   "source": [
    "Write list of AWS URLs to file\n",
    "\n",
    "We can use a list or a file"
   ]
  },
  {
   "cell_type": "code",
   "execution_count": null,
   "id": "b2b62c53",
   "metadata": {},
   "outputs": [],
   "source": [
    "# Create an Array of COG files\n",
    "dem_list = []\n",
    "for index, row in dem_gdf_clipped.iterrows():\n",
    "    dem_list.append(row['aws_url'])\n",
    "\n",
    "# for simplicity, setup variables\n",
    "gdf_aoi = gdf  # Watersheds around Frankfort\n",
    "gdf_tiles = dem_gdf\n",
    "\n",
    "# clip tiles\n",
    "dem_gdf_clipped = clip_tiles_to_aoi(gdf_tiles, gdf_aoi)\n"
   ]
  },
  {
   "cell_type": "markdown",
   "id": "0ae41a3b",
   "metadata": {},
   "source": [
    "#### Create a Digital Elevation Model"
   ]
  },
  {
   "cell_type": "code",
   "execution_count": null,
   "id": "4cd2ca09",
   "metadata": {},
   "outputs": [],
   "source": [
    "# Set up VRT Options\n",
    "vrt_options = gdal.BuildVRTOptions(\n",
    "    resolution='average',\n",
    "    resampleAlg='bilinear'\n",
    ")\n",
    "\n",
    "# set up output VRT file\n",
    "out_vrt = os.path.join(os.getcwd(), 'dem.vrt')\n",
    "\n",
    "if os.path.exists(out_vrt):\n",
    "  print('VRT exists')\n",
    "else:\n",
    "  # Build VRT\n",
    "  vrt = gdal.BuildVRT(out_vrt, dem_list, options=vrt_options)\n",
    "\n",
    "# Create a COG from VRT\n",
    "dem_cog = os.path.join(os.getcwd(), 'dem_cog.tif')\n",
    "if os.path.exists('dem_cog.tif'):\n",
    "  print('COG exists')\n",
    "else:\n",
    "  gdal.Translate(\n",
    "      'dem_cog.tif',\n",
    "      out_vrt,\n",
    "      format='COG',\n",
    "      creationOptions=[\n",
    "          'OVERVIEWS=IGNORE_EXISTING',\n",
    "          'NUM_THREADS=-1',\n",
    "          'COMPRESS=LZW',\n",
    "          'BIGTIFF=YES'  # allows for files larger than 4gb\n",
    "      ]\n",
    ")"
   ]
  },
  {
   "cell_type": "code",
   "execution_count": null,
   "id": "cd7d35ac",
   "metadata": {},
   "outputs": [],
   "source": [
    "# Create Map\n",
    "# initiate Map m\n",
    "m = leafmap.Map(\n",
    "    center=(38.2,-84.9),\n",
    "    zoom=11,\n",
    "    height=\"1000px\",\n",
    "    draw_control=False,\n",
    "    measure_control=False,\n",
    "    fullscreen_control=False,\n",
    "    )\n",
    "\n",
    "# add Kentucky's Topography Basemap as a WMTS\n",
    "m.add_tile_layer(\n",
    "    url=ky_base_map,\n",
    "    name='Ky TCM Topo',\n",
    "    attribution='<a href=\"https://kygeonet.ky.gov\" target=\"_blank\">DGI</a>'\n",
    ")\n",
    "\n",
    "# add Lower Kentucky River geometry to map\n",
    "m.add_gdf(\n",
    "    gdf,\n",
    "    layer_type='fill',\n",
    "    layer_name='Benson/Cedar/Stony Creeks',\n",
    ")\n",
    "\n",
    "# add cog to map\n",
    "m.add_raster(\n",
    "    dem_cog,\n",
    "    layer_name='Ky 2FT DEM',\n",
    "    colormap='terrain',\n",
    "    opacity=0.8\n",
    ")\n",
    "\n",
    "m.to_html('frankfort-map.html', add_layer_control=True)\n",
    "m"
   ]
  },
  {
   "cell_type": "code",
   "execution_count": null,
   "id": "83e2686e",
   "metadata": {},
   "outputs": [],
   "source": [
    "# # initiate Map m\n",
    "# m2 = leafmap.Map(\n",
    "#     center=(38.2,-84.9),\n",
    "#     zoom=11,\n",
    "#     draw_control=False,\n",
    "#     measure_control=False,\n",
    "#     fullscreen_control=False,\n",
    "#     )\n",
    "\n",
    "# # add Kentucky's Topography Basemap as a WMTS\n",
    "# m2.add_tile_layer(\n",
    "#     url=ky_base_map,\n",
    "#     name='Ky TCM Topo',\n",
    "#     attribution='<a href=\"https://kygeonet.ky.gov\" target=\"_blank\">DGI</a>'\n",
    "# )\n",
    "\n",
    "# # # add cog to map\n",
    "# # m2.add_raster(\n",
    "# #     dem_cog,\n",
    "# #     layer_name='Ky 2FT DEM',\n",
    "# #     colormap='terrain',\n",
    "# #     opacity=0.8\n",
    "# # )\n",
    "\n",
    "# # add fill_dep\n",
    "# m2.add_raster(\n",
    "#     'fill_dep.tif',\n",
    "#     layer_name='Fill Depressions',\n",
    "#     colormap='terrain',\n",
    "#     opacity=0.8\n",
    "# )\n",
    "\n",
    "# # # add fill_dep\n",
    "# # m2.add_raster(\n",
    "# #     'fd8_flow_acc.tif',\n",
    "# #     layer_name='Flow Accumulation',\n",
    "# #     colormap='terrain',\n",
    "# #     opacity=0.8\n",
    "# # )\n",
    "\n",
    "# # add fill_dep\n",
    "# m2.add_raster(\n",
    "#     'extracted_streams.tif',\n",
    "#     layer_name='Streams',\n",
    "#     opacity=0.8\n",
    "# )\n",
    "\n",
    "# m2.to_html()\n",
    "# m2\n"
   ]
  }
 ],
 "metadata": {
  "kernelspec": {
   "display_name": "venv",
   "language": "python",
   "name": "python3"
  },
  "language_info": {
   "codemirror_mode": {
    "name": "ipython",
    "version": 3
   },
   "file_extension": ".py",
   "mimetype": "text/x-python",
   "name": "python",
   "nbconvert_exporter": "python",
   "pygments_lexer": "ipython3",
   "version": "3.13.2"
  }
 },
 "nbformat": 4,
 "nbformat_minor": 5
}
